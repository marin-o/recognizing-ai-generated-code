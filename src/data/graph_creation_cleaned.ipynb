{
 "cells": [
  {
   "cell_type": "code",
   "execution_count": null,
   "id": "7f878c21",
   "metadata": {},
   "outputs": [],
   "source": [
    "import os\n",
    "import sys\n",
    "sys.path.append(os.path.abspath(os.path.join(os.getcwd(), \"..\")))\n"
   ]
  },
  {
   "cell_type": "code",
   "execution_count": null,
   "id": "6e4caafa",
   "metadata": {},
   "outputs": [],
   "source": [
    "from data.dataset.codet_m4_cleaned import CoDeTM4Cleaned"
   ]
  },
  {
   "cell_type": "code",
   "execution_count": null,
   "id": "067504f6",
   "metadata": {},
   "outputs": [],
   "source": [
    "train, val, test  = CoDeTM4Cleaned('../../data/codet_cleaned_20250812_201438/').get_dataset(['train','val','test'], columns='all', dynamic_split_sizing=False)"
   ]
  },
  {
   "cell_type": "code",
   "execution_count": null,
   "id": "e9e6dde2",
   "metadata": {},
   "outputs": [],
   "source": [
    "from datasets import concatenate_datasets"
   ]
  },
  {
   "cell_type": "code",
   "execution_count": null,
   "id": "8912b1ea",
   "metadata": {},
   "outputs": [],
   "source": [
    "codet = concatenate_datasets([train, val, test])"
   ]
  },
  {
   "cell_type": "code",
   "execution_count": null,
   "id": "f2e7d8a3",
   "metadata": {},
   "outputs": [],
   "source": [
    "import tree_sitter_python as tspython\n",
    "import tree_sitter_cpp as tscpp\n",
    "import tree_sitter_java as tsjava\n",
    "from tree_sitter import Parser, Language\n",
    "\n",
    "TS_PYTHON = Language(tspython.language())\n",
    "TS_JAVA = Language(tsjava.language())\n",
    "TS_CPP = Language(tscpp.language())\n",
    "\n",
    "PYTHON_PARSER, JAVA_PARSER, CPP_PARSER = Parser(language=TS_PYTHON), Parser(language=TS_JAVA), Parser(language=TS_CPP)"
   ]
  },
  {
   "cell_type": "code",
   "execution_count": null,
   "id": "06a00a0b",
   "metadata": {},
   "outputs": [],
   "source": [
    "import matplotlib.pyplot as plt"
   ]
  },
  {
   "cell_type": "code",
   "execution_count": null,
   "id": "20d66d1d",
   "metadata": {},
   "outputs": [],
   "source": [
    "language_counts = codet['language']\n",
    "plt.figure(figsize=(5, 5))\n",
    "plt.hist(language_counts, bins=len(set(language_counts)), edgecolor='black')\n",
    "plt.xlabel('Language')\n",
    "plt.ylabel('Count')\n",
    "plt.title('Distribution of Programming Languages in CoDeTM4 Cleaned Dataset')\n",
    "plt.xticks(rotation=45)\n",
    "plt.tight_layout()\n",
    "plt.show()\n",
    "\n",
    "python_count = language_counts.count(\"python\")\n",
    "java_count = language_counts.count(\"java\")\n",
    "cpp_count = language_counts.count(\"cpp\")\n",
    "\n",
    "print(f'Python count: {python_count}')\n",
    "print(f'Java count: {java_count}')\n",
    "print(f'C++ count: {cpp_count}')"
   ]
  },
  {
   "cell_type": "code",
   "execution_count": null,
   "id": "09abe416",
   "metadata": {},
   "outputs": [],
   "source": [
    "def get_parser(language):\n",
    "    match language:\n",
    "        case 'python':\n",
    "            return PYTHON_PARSER\n",
    "        case 'java':\n",
    "            return JAVA_PARSER\n",
    "        case 'cpp':\n",
    "            return CPP_PARSER\n",
    "    raise ValueError(f\"Unsupported language: {language}\")"
   ]
  },
  {
   "cell_type": "code",
   "execution_count": null,
   "id": "21feb688",
   "metadata": {},
   "outputs": [],
   "source": [
    "def create_tree(sample, code_key='cleaned_code'):\n",
    "    language = sample['language']\n",
    "    parser = get_parser(language)\n",
    "    tree = parser.parse(bytes(sample[code_key], 'utf-8'))\n",
    "    return tree"
   ]
  },
  {
   "cell_type": "code",
   "execution_count": null,
   "id": "4bdef1d4",
   "metadata": {},
   "outputs": [],
   "source": [
    "from tree_sitter import TreeCursor\n",
    "\n",
    "def walk_tree(cursor: TreeCursor, depth=0):\n",
    "    indent = '  ' * depth\n",
    "    print(f\"{indent}{cursor.node.type}\")\n",
    "\n",
    "    if cursor.goto_first_child():\n",
    "        walk_tree(cursor, depth+1)\n",
    "    \n",
    "        while cursor.goto_next_sibling():\n",
    "            walk_tree(cursor, depth+1)\n",
    "\n",
    "        cursor.goto_parent()"
   ]
  },
  {
   "cell_type": "code",
   "execution_count": null,
   "id": "1d5b792a",
   "metadata": {},
   "outputs": [],
   "source": [
    "from typing import Set\n",
    "\n",
    "def get_node_types_from_tree(cursor: TreeCursor, types: Set[str]=None) -> Set[str]:\n",
    "    if types is None:\n",
    "        types = set()\n",
    "    \n",
    "    types.add(cursor.node.type)\n",
    "\n",
    "    if cursor.goto_first_child():\n",
    "        get_node_types_from_tree(cursor, types)\n",
    "    \n",
    "        while cursor.goto_next_sibling():\n",
    "            get_node_types_from_tree(cursor, types)\n",
    "\n",
    "        cursor.goto_parent()\n",
    "\n",
    "    return types"
   ]
  },
  {
   "cell_type": "code",
   "execution_count": null,
   "id": "9b011b15",
   "metadata": {},
   "outputs": [],
   "source": [
    "def extract_types(sample):\n",
    "    # Import everything needed inside the function\n",
    "    import tree_sitter_python as tspython\n",
    "    import tree_sitter_cpp as tscpp\n",
    "    import tree_sitter_java as tsjava\n",
    "    from tree_sitter import Parser, Language, TreeCursor\n",
    "    from typing import Set\n",
    "    \n",
    "    # Create parsers locally\n",
    "    TS_PYTHON = Language(tspython.language())\n",
    "    TS_JAVA = Language(tsjava.language())\n",
    "    TS_CPP = Language(tscpp.language())\n",
    "    \n",
    "    PYTHON_PARSER = Parser(language=TS_PYTHON)\n",
    "    JAVA_PARSER = Parser(language=TS_JAVA)\n",
    "    CPP_PARSER = Parser(language=TS_CPP)\n",
    "    \n",
    "    def get_parser(language):\n",
    "        match language:\n",
    "            case 'python':\n",
    "                return PYTHON_PARSER\n",
    "            case 'java':\n",
    "                return JAVA_PARSER\n",
    "            case 'cpp':\n",
    "                return CPP_PARSER\n",
    "        raise ValueError(f\"Unsupported language: {language}\")\n",
    "    \n",
    "    def get_node_types_from_tree(cursor: TreeCursor, types: Set[str]=None) -> Set[str]:\n",
    "        if types is None:\n",
    "            types = set()\n",
    "        \n",
    "        types.add(cursor.node.type)\n",
    "\n",
    "        if cursor.goto_first_child():\n",
    "            get_node_types_from_tree(cursor, types)\n",
    "        \n",
    "            while cursor.goto_next_sibling():\n",
    "                get_node_types_from_tree(cursor, types)\n",
    "\n",
    "            cursor.goto_parent()\n",
    "\n",
    "        return types\n",
    "    \n",
    "    parser = get_parser(sample['language'])\n",
    "    tree = parser.parse(sample['cleaned_code'].encode('utf-8'))\n",
    "    cursor = tree.walk()\n",
    "    types = get_node_types_from_tree(cursor)\n",
    "    return {\"types\": list(types)}\n",
    "\n",
    "result = codet.map(extract_types, batched=False, num_proc=8)\n",
    "\n",
    "all_types = set()\n",
    "for tlist in result['types']:\n",
    "    all_types.update(tlist)\n",
    "\n",
    "print(f\"Collected {len(all_types)} unique node types\")\n",
    "\n",
    "# # Below code doesn't work on windows due to different multiprocessing logic udner the hood\n",
    "# def extract_types(sample):\n",
    "#     parser = get_parser(sample['language'])\n",
    "#     tree = parser.parse(sample['cleaned_code'].encode('utf-8'))\n",
    "#     cursor = tree.walk()\n",
    "#     types = get_node_types_from_tree(cursor)\n",
    "#     return {\"types\": list(types)}\n",
    "\n",
    "# result = codet.map(extract_types, batched=False, num_proc=8)\n",
    "\n",
    "# all_types = set()\n",
    "# for tlist in result['types']:\n",
    "#     all_types.update(tlist)\n",
    "\n",
    "# print(f\"Collected {len(all_types)} unique node types\")"
   ]
  },
  {
   "cell_type": "code",
   "execution_count": null,
   "id": "1f994b38",
   "metadata": {},
   "outputs": [],
   "source": [
    "all_types = sorted(list(all_types))"
   ]
  },
  {
   "cell_type": "code",
   "execution_count": null,
   "id": "7777fc52",
   "metadata": {},
   "outputs": [],
   "source": [
    "type_to_ind = {t: i for i, t in enumerate(all_types)}"
   ]
  },
  {
   "cell_type": "code",
   "execution_count": null,
   "id": "0322e294",
   "metadata": {},
   "outputs": [],
   "source": [
    "from torch_geometric.data import Data\n",
    "from typing import List, Tuple, Dict\n",
    "from tree_sitter import Node"
   ]
  },
  {
   "cell_type": "code",
   "execution_count": null,
   "id": "04d1f34f",
   "metadata": {},
   "outputs": [],
   "source": [
    "from torch_geometric.data import Data\n",
    "from typing import List, Tuple, Dict\n",
    "from torch import tensor, long as tlong\n",
    "from tree_sitter import TreeCursor\n",
    "\n",
    "def tree_to_graph(cursor: TreeCursor, id_map: Dict = None, next_id: int = 0, edges: List[Tuple[int, int]] = None) -> Tuple[List[Tuple[int, int]], Dict, int]:\n",
    "    if edges is None:\n",
    "        edges = []\n",
    "    if id_map is None:\n",
    "        id_map = {}\n",
    "\n",
    "    # Assign ID to current node\n",
    "    if cursor.node not in id_map:\n",
    "        id_map[cursor.node] = next_id\n",
    "        next_id += 1\n",
    "    current_id = id_map[cursor.node]\n",
    "\n",
    "    if cursor.goto_first_child():\n",
    "        # Process first child\n",
    "        if cursor.node not in id_map:\n",
    "            id_map[cursor.node] = next_id\n",
    "            next_id += 1\n",
    "        child_id = id_map[cursor.node]\n",
    "        edges.append((current_id, child_id))\n",
    "        edges, id_map, next_id = tree_to_graph(cursor, id_map, next_id, edges)\n",
    "        \n",
    "        # Process siblings\n",
    "        while cursor.goto_next_sibling():\n",
    "            if cursor.node not in id_map:\n",
    "                id_map[cursor.node] = next_id\n",
    "                next_id += 1\n",
    "            child_id = id_map[cursor.node]\n",
    "            edges.append((current_id, child_id))\n",
    "            edges, id_map, next_id = tree_to_graph(cursor, id_map, next_id, edges)\n",
    "        \n",
    "        cursor.goto_parent()\n",
    "\n",
    "    return edges, id_map, next_id"
   ]
  },
  {
   "cell_type": "code",
   "execution_count": null,
   "id": "afb0abf2",
   "metadata": {},
   "outputs": [],
   "source": [
    "from tqdm import tqdm"
   ]
  },
  {
   "cell_type": "code",
   "execution_count": null,
   "id": "b8ebffcf",
   "metadata": {},
   "outputs": [],
   "source": [
    "def create_graph(sample):\n",
    "    tree = create_tree(sample)\n",
    "    edges, id_map, _ = tree_to_graph(tree.walk())\n",
    "    edge_index = tensor(edges, dtype=tlong).t().contiguous()\n",
    "    x = [type_to_ind[node.type] for node, _ in sorted(id_map.items(), key=lambda kv: kv[1])]\n",
    "    x = tensor(x, dtype=tlong)\n",
    "    y = tensor([sample['target_binary']], dtype=tlong)\n",
    "\n",
    "    graph_features = tensor(list(sample['features'].values()))\n",
    "    \n",
    "    metadata = {\n",
    "        'language': sample['language'],\n",
    "        'target': sample['target'],\n",
    "        'target_binary': sample['target_binary'],\n",
    "        'code': sample['code'],\n",
    "        'cleaned_code': sample['cleaned_code']\n",
    "    }\n",
    "    \n",
    "    data = Data(\n",
    "        x=x, \n",
    "        y=y, \n",
    "        edge_index=edge_index, \n",
    "        graph_features=graph_features,\n",
    "        metadata=metadata\n",
    "    )    \n",
    "    return data\n"
   ]
  },
  {
   "cell_type": "code",
   "execution_count": null,
   "id": "51e9b424",
   "metadata": {},
   "outputs": [],
   "source": [
    "codet"
   ]
  },
  {
   "cell_type": "code",
   "execution_count": null,
   "id": "77c50bd1",
   "metadata": {},
   "outputs": [],
   "source": [
    "def create_graphs(dataset, desc_keyword):\n",
    "    graphs = []\n",
    "\n",
    "    for i, sample in enumerate(tqdm(dataset, desc=f'Creating {desc_keyword} graphs')):\n",
    "        data = create_graph(sample)\n",
    "        graphs.append(data)\n",
    "\n",
    "    return graphs\n",
    "    "
   ]
  },
  {
   "cell_type": "code",
   "execution_count": null,
   "id": "4e96b5ef",
   "metadata": {},
   "outputs": [],
   "source": [
    "from torch_geometric.data import Data\n",
    "from torch import save\n",
    "import gc\n",
    "\n",
    "train_graphs = create_graphs(train, 'train')\n",
    "save(train_graphs, '../../data/codet_graphs/train_graphs_cleaned.pt')\n",
    "del train, train_graphs\n",
    "gc.collect()\n",
    "val_graphs = create_graphs(val, 'val')\n",
    "save(val_graphs, '../../data/codet_graphs/val_graphs_cleaned.pt')\n",
    "del val, val_graphs\n",
    "gc.collect()\n",
    "test_graphs = create_graphs(test, 'test')\n",
    "save(test_graphs, '../../data/codet_graphs/test_graphs_cleaned.pt')\n",
    "del test, test_graphs\n",
    "gc.collect()\n",
    "save(type_to_ind, '../../data/codet_graphs/type_to_ind_cleaned.pt')"
   ]
  },
  {
   "cell_type": "code",
   "execution_count": null,
   "id": "8f17865a",
   "metadata": {},
   "outputs": [],
   "source": [
    "from torch import load"
   ]
  },
  {
   "cell_type": "code",
   "execution_count": null,
   "id": "552ad835",
   "metadata": {},
   "outputs": [],
   "source": [
    "from torch_geometric.data import Data"
   ]
  },
  {
   "cell_type": "code",
   "execution_count": null,
   "id": "95200022",
   "metadata": {},
   "outputs": [],
   "source": [
    "train_graphs = load('../../data/codet_graphs/train_graphs_cleaned.pt', weights_only=False)"
   ]
  },
  {
   "cell_type": "code",
   "execution_count": null,
   "id": "504faaa5",
   "metadata": {},
   "outputs": [],
   "source": [
    "type_to_ind = load('../../data/codet_graphs/type_to_ind_cleaned.pt', weights_only=False)"
   ]
  },
  {
   "cell_type": "code",
   "execution_count": null,
   "id": "285b5f3a",
   "metadata": {},
   "outputs": [],
   "source": [
    "len(train_graphs)"
   ]
  },
  {
   "cell_type": "code",
   "execution_count": null,
   "id": "14c9f68b",
   "metadata": {},
   "outputs": [],
   "source": [
    "import networkx as nx\n",
    "import matplotlib.pyplot as plt\n",
    "from torch_geometric.utils import to_networkx\n",
    "\n",
    "def visualize_graph(data, figsize=(15, 10), show_labels=True):\n",
    "    # Convert to NetworkX graph\n",
    "    G = to_networkx(data, to_undirected=False)\n",
    "    \n",
    "    plt.figure(figsize=figsize)\n",
    "    \n",
    "    # Create tree layout manually\n",
    "    pos = {}\n",
    "    \n",
    "    # Find root (node with no incoming edges)\n",
    "    root = 0\n",
    "    for node in G.nodes():\n",
    "        if G.in_degree(node) == 0:\n",
    "            root = node\n",
    "            break\n",
    "    \n",
    "    # Assign positions level by level\n",
    "    levels = {}\n",
    "    queue = [(root, 0)]\n",
    "    \n",
    "    while queue:\n",
    "        node, level = queue.pop(0)\n",
    "        levels[node] = level\n",
    "        \n",
    "        # Add children to next level\n",
    "        for child in G.successors(node):\n",
    "            queue.append((child, level + 1))\n",
    "    \n",
    "    # Group nodes by level\n",
    "    level_groups = {}\n",
    "    for node, level in levels.items():\n",
    "        if level not in level_groups:\n",
    "            level_groups[level] = []\n",
    "        level_groups[level].append(node)\n",
    "    \n",
    "    # Position nodes\n",
    "    for level, nodes in level_groups.items():\n",
    "        for i, node in enumerate(nodes):\n",
    "            x = i - len(nodes) / 2  # Center nodes horizontally\n",
    "            y = -level  # Higher levels at top\n",
    "            pos[node] = (x, y)\n",
    "    \n",
    "    # Create labels if requested\n",
    "    labels = None\n",
    "    if show_labels:\n",
    "        # Create reverse mapping from index to type\n",
    "        ind_to_type = {v: k for k, v in type_to_ind.items()}\n",
    "        labels = {}\n",
    "        for node in G.nodes():\n",
    "            node_type_idx = data.x[node].item()\n",
    "            node_type = ind_to_type.get(node_type_idx, f\"idx_{node_type_idx}\")\n",
    "            labels[node] = node_type\n",
    "    \n",
    "    nx.draw(G, pos, with_labels=show_labels, labels=labels, \n",
    "            node_color='lightblue', node_size=500, arrows=True, \n",
    "            font_size=6 if show_labels else 8)\n",
    "    \n",
    "    plt.title(\"AST Tree\")\n",
    "    plt.show()\n",
    "\n",
    "visualize_graph(train_graphs[1], show_labels=True)\n"
   ]
  },
  {
   "cell_type": "code",
   "execution_count": null,
   "id": "e9a53071",
   "metadata": {},
   "outputs": [],
   "source": []
  }
 ],
 "metadata": {
  "language_info": {
   "name": "python"
  }
 },
 "nbformat": 4,
 "nbformat_minor": 5
}
