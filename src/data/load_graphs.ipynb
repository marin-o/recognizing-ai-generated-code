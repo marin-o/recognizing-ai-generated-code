{
 "cells": [
  {
   "cell_type": "code",
   "execution_count": 1,
   "id": "05e68848",
   "metadata": {},
   "outputs": [],
   "source": [
    "import h5py\n",
    "from torch_geometric.data import Data"
   ]
  },
  {
   "cell_type": "code",
   "execution_count": 4,
   "id": "55f41cee",
   "metadata": {},
   "outputs": [
    {
     "name": "stdout",
     "output_type": "stream",
     "text": [
      "Disk size: 82,714,968,528 bytes\n",
      "Size in GB (1000^3): 82.71 GB\n",
      "Size in GiB (1024^3): 77.03 GiB\n",
      "\n",
      "If browser shows 77 'GB' (decimal): 77,000,000,000 bytes\n",
      "If browser shows 77 'GiB' (binary): 82,678,120,448 bytes\n",
      "Actual file: 82,714,968,528 bytes\n"
     ]
    }
   ],
   "source": [
    "# File size from ls -l (in bytes)\n",
    "disk_size_bytes = 82714968528\n",
    "\n",
    "# Convert to different units\n",
    "disk_size_gb = disk_size_bytes / (1000**3)  # GB (decimal)\n",
    "disk_size_gib = disk_size_bytes / (1024**3)  # GiB (binary)\n",
    "\n",
    "print(f\"Disk size: {disk_size_bytes:,} bytes\")\n",
    "print(f\"Size in GB (1000^3): {disk_size_gb:.2f} GB\")\n",
    "print(f\"Size in GiB (1024^3): {disk_size_gib:.2f} GiB\")\n",
    "\n",
    "# Browser shows 77GB, let's see what that would be in bytes\n",
    "browser_gb = 77\n",
    "browser_bytes_if_decimal = browser_gb * (1000**3)\n",
    "browser_bytes_if_binary = browser_gb * (1024**3)\n",
    "\n",
    "print(f\"\\nIf browser shows 77 'GB' (decimal): {browser_bytes_if_decimal:,} bytes\")\n",
    "print(f\"If browser shows 77 'GiB' (binary): {browser_bytes_if_binary:,} bytes\")\n",
    "print(f\"Actual file: {disk_size_bytes:,} bytes\")"
   ]
  },
  {
   "cell_type": "code",
   "execution_count": 9,
   "id": "b94916d3",
   "metadata": {},
   "outputs": [],
   "source": [
    "filepath = '../../data/codet_graphs/graphs.h5'\n",
    "\n",
    "def load_graph(h5_file, split, graph_id):\n",
    "    with h5py.File(h5_file, 'r') as hf:\n",
    "        node_features = hf[f'{split}/node_features/graph_{graph_id:07d}'][:]\n",
    "        edge_indices = hf[f'{split}/edge_indices/graph_{graph_id:07d}'][:]\n",
    "        label = hf[f'{split}/labels/graph_{graph_id:07d}'][:]\n",
    "\n",
    "        return {\n",
    "            'x': node_features,\n",
    "            'edge_indices': edge_indices,\n",
    "            'y': label,\n",
    "        }\n",
    "    \n",
    "graph = load_graph(filepath, 'train', 140000)\n",
    "data = Data(x=graph['x'], y=graph['y'], edge_index=graph['edge_indices'])"
   ]
  },
  {
   "cell_type": "code",
   "execution_count": 10,
   "id": "c96c4e7b",
   "metadata": {},
   "outputs": [
    {
     "data": {
      "text/plain": [
       "Data(x=[772, 384], edge_index=[2, 771], y=[1])"
      ]
     },
     "execution_count": 10,
     "metadata": {},
     "output_type": "execute_result"
    }
   ],
   "source": [
    "data"
   ]
  },
  {
   "cell_type": "code",
   "execution_count": null,
   "id": "d5017e0b",
   "metadata": {},
   "outputs": [],
   "source": []
  }
 ],
 "metadata": {
  "kernelspec": {
   "display_name": ".venv",
   "language": "python",
   "name": "python3"
  },
  "language_info": {
   "codemirror_mode": {
    "name": "ipython",
    "version": 3
   },
   "file_extension": ".py",
   "mimetype": "text/x-python",
   "name": "python",
   "nbconvert_exporter": "python",
   "pygments_lexer": "ipython3",
   "version": "3.10.15"
  }
 },
 "nbformat": 4,
 "nbformat_minor": 5
}
