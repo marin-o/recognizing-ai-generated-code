{
 "cells": [
  {
   "cell_type": "code",
   "execution_count": null,
   "id": "c90d6ac4",
   "metadata": {},
   "outputs": [],
   "source": [
    "import os\n",
    "import sys\n",
    "sys.path.append(os.path.abspath(os.path.join(os.getcwd(), \"..\")))\n",
    "\n",
    "from data.dataset.aigcodeset import AIGCodeSet"
   ]
  },
  {
   "cell_type": "code",
   "execution_count": 89,
   "id": "3346fa6e",
   "metadata": {},
   "outputs": [
    {
     "name": "stdout",
     "output_type": "stream",
     "text": [
      "Errored code: {'function_defs': 0, 'if_statements': 0, 'while_loops': 0, 'for_loops': 0, 'imports': 0, 'comments': 1, 'class_defs': 0, 'max_nesting_depth': 0, 'binary_ops': 0, 'errors': 1}\n",
      "Valid code: {'function_defs': 1, 'if_statements': 1, 'while_loops': 0, 'for_loops': 1, 'imports': 1, 'comments': 0, 'class_defs': 0, 'max_nesting_depth': 4, 'binary_ops': 1, 'errors': 0}\n"
     ]
    }
   ],
   "source": [
    "from tree_sitter import Language, Parser\n",
    "import tree_sitter_python as tspython\n",
    "\n",
    "# Set up the parser\n",
    "PY_LANGUAGE = Language(tspython.language())\n",
    "parser = Parser(PY_LANGUAGE)\n",
    "\n",
    "def extract_features(code_snippet):\n",
    "    tree = parser.parse(bytes(code_snippet, \"utf8\"))\n",
    "    root_node = tree.root_node\n",
    "\n",
    "    # Queries to find specific patterns\n",
    "    function_query = PY_LANGUAGE.query(\"(function_definition) @func\")\n",
    "    if_query = PY_LANGUAGE.query(\"(if_statement) @if_stmt\")\n",
    "    while_query = PY_LANGUAGE.query(\"(while_statement) @while_stmt\")\n",
    "    for_query = PY_LANGUAGE.query(\"(for_statement) @for_stmt\")\n",
    "    comment_query = PY_LANGUAGE.query(\"(comment) @comment\")\n",
    "    import_query = PY_LANGUAGE.query(\"(import_statement) @import\")\n",
    "    import_from_query = PY_LANGUAGE.query(\"(import_from_statement) @import_from\")\n",
    "    class_query = PY_LANGUAGE.query(\"(class_definition) @class_def\")\n",
    "    binary_op_query = PY_LANGUAGE.query(\"(binary_operator) @binop\")\n",
    "    error_query = PY_LANGUAGE.query(\"(ERROR) @error\")\n",
    "\n",
    "    # Calculate max nesting depth\n",
    "    max_nesting_depth = 0\n",
    "    current_depth = 0\n",
    "\n",
    "    def traverse(node, depth):\n",
    "        nonlocal max_nesting_depth, current_depth\n",
    "        current_depth = depth\n",
    "        max_nesting_depth = max(max_nesting_depth, current_depth)\n",
    "\n",
    "        # Increment depth only for block-level constructs\n",
    "        node_type = node.type\n",
    "        if node_type in {\"function_definition\", \"class_definition\", \"if_statement\", \"for_statement\", \"while_statement\"}:\n",
    "            for child in node.children:\n",
    "                traverse(child, depth + 1)\n",
    "        else:\n",
    "            for child in node.children:\n",
    "                traverse(child, depth)\n",
    "\n",
    "    # Start traversal from the root\n",
    "    traverse(root_node, 0)\n",
    "\n",
    "    # Extract features\n",
    "    features = {\n",
    "        \"function_defs\": len(function_query.captures(root_node)),\n",
    "        \"if_statements\": len(if_query.captures(root_node)),\n",
    "        \"while_loops\": len(while_query.captures(root_node)),\n",
    "        \"for_loops\": len(for_query.captures(root_node)),\n",
    "        \"imports\": len(import_query.captures(root_node)) + len(import_from_query.captures(root_node)),\n",
    "        \"comments\": len(comment_query.captures(root_node)),\n",
    "        \"class_defs\": len(class_query.captures(root_node)),\n",
    "        \"max_nesting_depth\": max_nesting_depth,\n",
    "        \"binary_ops\": len(binary_op_query.captures(root_node)),\n",
    "        \"errors\": len(error_query.captures(root_node)),\n",
    "    }\n",
    "    return features\n",
    "\n",
    "# Example usage\n",
    "code_with_error = \"\"\"\n",
    "def add(a, b)  # Missing colon\n",
    "    return a + b\n",
    "\"\"\"\n",
    "code_valid = \"\"\"\n",
    "import os\n",
    "import sys\n",
    "def subtract(a, b):\n",
    "    if a > b:\n",
    "        for i in range(3):\n",
    "            for hhh in range(45):\n",
    "                c = a - b\n",
    "        return c\n",
    "    return a - b\n",
    "\"\"\"\n",
    "features_err = extract_features(code_with_error)\n",
    "features_valid = extract_features(code_valid)\n",
    "print(\"Errored code:\", features_err)\n",
    "print(\"Valid code:\", features_valid)"
   ]
  },
  {
   "cell_type": "code",
   "execution_count": 60,
   "id": "ac7dbeb0",
   "metadata": {},
   "outputs": [],
   "source": [
    "train, val, test = AIGCodeSet(cache_dir='../../data/').get_dataset(split=True)"
   ]
  },
  {
   "cell_type": "code",
   "execution_count": 61,
   "id": "8248e6bf",
   "metadata": {},
   "outputs": [],
   "source": [
    "codes = train['code']"
   ]
  },
  {
   "cell_type": "code",
   "execution_count": 91,
   "id": "9b845ece",
   "metadata": {},
   "outputs": [],
   "source": [
    "features = {}\n",
    "for code in codes:\n",
    "    features[code] = extract_features(code)"
   ]
  },
  {
   "cell_type": "code",
   "execution_count": 94,
   "id": "78ed1012",
   "metadata": {},
   "outputs": [
    {
     "data": {
      "text/plain": [
       "{'function_defs': 1,\n",
       " 'if_statements': 1,\n",
       " 'while_loops': 1,\n",
       " 'for_loops': 1,\n",
       " 'imports': 2,\n",
       " 'comments': 1,\n",
       " 'class_defs': 1,\n",
       " 'max_nesting_depth': 4,\n",
       " 'binary_ops': 1,\n",
       " 'errors': 0}"
      ]
     },
     "execution_count": 94,
     "metadata": {},
     "output_type": "execute_result"
    }
   ],
   "source": [
    "list(features.items())[2][1]"
   ]
  },
  {
   "cell_type": "code",
   "execution_count": null,
   "id": "45964611",
   "metadata": {},
   "outputs": [],
   "source": []
  }
 ],
 "metadata": {
  "kernelspec": {
   "display_name": ".venv",
   "language": "python",
   "name": "python3"
  },
  "language_info": {
   "codemirror_mode": {
    "name": "ipython",
    "version": 3
   },
   "file_extension": ".py",
   "mimetype": "text/x-python",
   "name": "python",
   "nbconvert_exporter": "python",
   "pygments_lexer": "ipython3",
   "version": "3.10.15"
  }
 },
 "nbformat": 4,
 "nbformat_minor": 5
}
